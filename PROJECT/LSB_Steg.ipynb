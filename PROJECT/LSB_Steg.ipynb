{
  "nbformat": 4,
  "nbformat_minor": 0,
  "metadata": {
    "colab": {
      "provenance": []
    },
    "kernelspec": {
      "name": "python3",
      "display_name": "Python 3"
    },
    "language_info": {
      "name": "python"
    }
  },
  "cells": [
    {
      "cell_type": "code",
      "source": [
        "from google.colab import drive\n",
        "drive.mount('/content/drive') \n",
        "%cd /content/drive/My\\ Drive/"
      ],
      "metadata": {
        "id": "rUtK9r2KnWm7",
        "colab": {
          "base_uri": "https://localhost:8080/"
        },
        "outputId": "50d91b43-2760-43e9-cbd4-6bd5c4426aa8"
      },
      "execution_count": null,
      "outputs": [
        {
          "output_type": "stream",
          "name": "stdout",
          "text": [
            "Mounted at /content/drive\n",
            "/content/drive/My Drive\n"
          ]
        }
      ]
    },
    {
      "cell_type": "code",
      "source": [
        "!mkdir LSB"
      ],
      "metadata": {
        "id": "dZtYuP5qpdgx",
        "colab": {
          "base_uri": "https://localhost:8080/"
        },
        "outputId": "7def83f5-1ecf-4c93-cbb0-ce7a96053e4d"
      },
      "execution_count": null,
      "outputs": [
        {
          "output_type": "stream",
          "name": "stdout",
          "text": [
            "mkdir: cannot create directory ‘LSB’: File exists\n"
          ]
        }
      ]
    },
    {
      "cell_type": "code",
      "source": [
        "%cd LSB"
      ],
      "metadata": {
        "id": "qx1cHcEwpgI6",
        "outputId": "43463c96-3bb1-4e49-d4aa-39a8e77bd26f",
        "colab": {
          "base_uri": "https://localhost:8080/"
        }
      },
      "execution_count": null,
      "outputs": [
        {
          "output_type": "stream",
          "name": "stdout",
          "text": [
            "/content/drive/MyDrive/LSB\n"
          ]
        }
      ]
    },
    {
      "cell_type": "code",
      "source": [
        "import numpy as np\n",
        "from PIL import Image"
      ],
      "metadata": {
        "id": "xlyYAIj_3DWR"
      },
      "execution_count": null,
      "outputs": []
    },
    {
      "cell_type": "code",
      "source": [
        "def Encode(src, message, dest):\n",
        "\n",
        "    img = Image.open(src, 'r')\n",
        "    width, height = img.size\n",
        "    array = np.array(list(img.getdata()))\n",
        "    n = 3\n",
        "    total_pixels = array.size//n\n",
        "\n",
        "    message += \"$t3g0\"\n",
        "    b_message = ''.join([format(ord(i), \"08b\") for i in message])\n",
        "    req_pixels = len(b_message)\n",
        "\n",
        "    if req_pixels > total_pixels:\n",
        "        print(\"ERROR: Need larger file size\")\n",
        "\n",
        "    else:\n",
        "        index=0\n",
        "        for p in range(total_pixels):\n",
        "            for q in range(0, 3):\n",
        "                if index < req_pixels:\n",
        "                    array[p][q] = int(bin(array[p][q])[2:9] + b_message[index], 2)\n",
        "                    index += 1\n",
        "\n",
        "        array=array.reshape(height, width, n)\n",
        "        enc_img = Image.fromarray(array.astype('uint8'), img.mode)\n",
        "        enc_img.save(dest)\n",
        "        print(\"Image Encoded Successfully\")"
      ],
      "metadata": {
        "id": "eDet8twl3QtQ"
      },
      "execution_count": null,
      "outputs": []
    },
    {
      "cell_type": "code",
      "source": [
        "def Decode(src):\n",
        "\n",
        "    img = Image.open(src, 'r')\n",
        "    array = np.array(list(img.getdata()))\n",
        "\n",
        "    n = 3\n",
        "    total_pixels = array.size//n\n",
        "\n",
        "    hidden_bits = \"\"\n",
        "    for p in range(total_pixels):\n",
        "        for q in range(0, 3):\n",
        "            hidden_bits += (bin(array[p][q])[2:][-1])\n",
        "\n",
        "    hidden_bits = [hidden_bits[i:i+8] for i in range(0, len(hidden_bits), 8)]\n",
        "\n",
        "    message = \"\"\n",
        "    for i in range(len(hidden_bits)):\n",
        "        if message[-5:] == \"$t3g0\":\n",
        "            break\n",
        "        else:\n",
        "            message += chr(int(hidden_bits[i], 2))\n",
        "    if \"$t3g0\" in message:\n",
        "        print(\"Hidden Message:\", message[:-5])\n",
        "    else:\n",
        "        print(\"No Hidden Message Found\")"
      ],
      "metadata": {
        "id": "SsAXhJCR3YGZ"
      },
      "execution_count": null,
      "outputs": []
    },
    {
      "cell_type": "code",
      "source": [
        "def Stego():\n",
        "    print(\"--Welcome to $t3g0--\")\n",
        "    print(\"1: Encode\")\n",
        "    print(\"2: Decode\")\n",
        "\n",
        "    func = input()\n",
        "\n",
        "    if func == '1':\n",
        "        print(\"Enter Source Image Path\")\n",
        "        src = input()\n",
        "        print(\"Enter Message to Hide\")\n",
        "        message = input()\n",
        "        print(\"Enter Destination Image Path\")\n",
        "        dest = input()\n",
        "        print(\"Encoding...\")\n",
        "        Encode(src, message, dest)\n",
        "\n",
        "    elif func == '2':\n",
        "        print(\"Enter Source Image Path\")\n",
        "        src = input()\n",
        "        print(\"Decoding...\")\n",
        "        Decode(src)\n",
        "\n",
        "    else:\n",
        "        print(\"ERROR: Invalid option chosen\")"
      ],
      "metadata": {
        "id": "ocbZ4nnc3bWq"
      },
      "execution_count": null,
      "outputs": []
    },
    {
      "cell_type": "code",
      "source": [
        "Stego()"
      ],
      "metadata": {
        "colab": {
          "base_uri": "https://localhost:8080/"
        },
        "id": "NxyVGyNa33no",
        "outputId": "43e3a798-1621-4310-b562-e13274de61c9"
      },
      "execution_count": null,
      "outputs": [
        {
          "output_type": "stream",
          "name": "stdout",
          "text": [
            "--Welcome to $t3g0--\n",
            "1: Encode\n",
            "2: Decode\n",
            "1\n",
            "Enter Source Image Path\n",
            "/content/drive/MyDrive/LSB/input_image.png\n",
            "Enter Message to Hide\n",
            "Code Red, ABORT!!!\n",
            "Enter Destination Image Path\n",
            "/content/drive/MyDrive/LSB/output_image.png\n",
            "Encoding...\n",
            "Image Encoded Successfully\n"
          ]
        }
      ]
    },
    {
      "cell_type": "code",
      "source": [
        "Stego()"
      ],
      "metadata": {
        "colab": {
          "base_uri": "https://localhost:8080/"
        },
        "id": "8K0Xmwik7a1Q",
        "outputId": "c3df121c-e8a1-4f38-a388-8cd89baa8b49"
      },
      "execution_count": null,
      "outputs": [
        {
          "output_type": "stream",
          "name": "stdout",
          "text": [
            "--Welcome to $t3g0--\n",
            "1: Encode\n",
            "2: Decode\n",
            "2\n",
            "Enter Source Image Path\n",
            "/content/drive/MyDrive/LSB/output_image.png\n",
            "Decoding...\n",
            "Hidden Message: Code Red, ABORT!!!\n"
          ]
        }
      ]
    },
    {
      "cell_type": "code",
      "source": [
        "import numpy as np\n",
        "import cv2\n",
        "from skimage.metrics import structural_similarity as ssim\n",
        "\n",
        "original_image = cv2.imread(\"input_image.png\")\n",
        "steg_image = cv2.imread(\"output_image.png\")\n",
        "\n",
        "original_image = cv2.cvtColor(original_image, cv2.COLOR_BGR2GRAY)\n",
        "steg_image = cv2.cvtColor(steg_image, cv2.COLOR_BGR2GRAY)\n",
        "\n",
        "# Check if the dimensions of the images are equal\n",
        "if original_image.shape != steg_image.shape:\n",
        "    raise ValueError(\"The dimensions of the images are not equal.\")\n",
        "\n",
        "ssim_value, _ = ssim(original_image, steg_image, full=True, multichannel=False)\n",
        "mse = np.mean((np.array(original_image) - np.array(steg_image)) ** 2)\n",
        "max_pixel = 255\n",
        "psnr = 10 * np.log10((max_pixel ** 2) / mse)\n",
        "\n",
        "# Print the results\n",
        "print(f\"MSE: {mse}\")\n",
        "print(f\"PSNR: {psnr}\")\n",
        "print(f\"SSIM: {ssim_value}\")\n"
      ],
      "metadata": {
        "colab": {
          "base_uri": "https://localhost:8080/"
        },
        "id": "Bgbq9AwcYUWO",
        "outputId": "6159357c-d8ba-4e75-fc6b-933759034ba2"
      },
      "execution_count": null,
      "outputs": [
        {
          "output_type": "stream",
          "name": "stderr",
          "text": [
            "<ipython-input-13-2ffe53b27ccf>:15: FutureWarning: `multichannel` is a deprecated argument name for `structural_similarity`. It will be removed in version 1.0. Please use `channel_axis` instead.\n",
            "  ssim_value, _ = ssim(original_image, steg_image, full=True, multichannel=False)\n"
          ]
        },
        {
          "output_type": "stream",
          "name": "stdout",
          "text": [
            "MSE: 0.0018754699519925964\n",
            "PSNR: 75.3997025041281\n",
            "SSIM: 0.9999885086858208\n"
          ]
        }
      ]
    },
    {
      "cell_type": "markdown",
      "source": [
        "If we trained a binary classifier using the original images as positive samples and the steganographic images generated using LSB steganography as negative samples, then we can acheive a detection rate of over 99%"
      ],
      "metadata": {
        "id": "u7sc2grrc63m"
      }
    },
    {
      "cell_type": "markdown",
      "source": [
        "The presence of the hidden data in the steganographic image if we use some highly powered Steganalysis tools like StegExpose"
      ],
      "metadata": {
        "id": "5kZRWdN2dwz-"
      }
    },
    {
      "cell_type": "code",
      "source": [],
      "metadata": {
        "id": "LzqoQxTjY7TK"
      },
      "execution_count": null,
      "outputs": []
    }
  ]
}