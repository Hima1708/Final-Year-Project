{
  "nbformat": 4,
  "nbformat_minor": 0,
  "metadata": {
    "colab": {
      "provenance": []
    },
    "kernelspec": {
      "name": "python3",
      "display_name": "Python 3"
    },
    "language_info": {
      "name": "python"
    }
  },
  "cells": [
    {
      "cell_type": "code",
      "execution_count": null,
      "metadata": {
        "colab": {
          "base_uri": "https://localhost:8080/"
        },
        "id": "X-vjzTNlYMHN",
        "outputId": "9a50acec-49e5-432d-8381-936cb0be4ed9"
      },
      "outputs": [
        {
          "output_type": "stream",
          "name": "stderr",
          "text": [
            "<ipython-input-4-ee0e6be9f0e5>:15: FutureWarning: `multichannel` is a deprecated argument name for `structural_similarity`. It will be removed in version 1.0. Please use `channel_axis` instead.\n",
            "  ssim_value, _ = ssim(original_image, steg_image, full=True, multichannel=False)\n"
          ]
        },
        {
          "output_type": "stream",
          "name": "stdout",
          "text": [
            "MSE: 0.43129411764705883\n",
            "PSNR: 51.78306825956005\n",
            "SSIM: 0.998153406840663\n"
          ]
        }
      ],
      "source": [
        "import numpy as np\n",
        "import cv2\n",
        "from skimage.metrics import structural_similarity as ssim\n",
        "\n",
        "original_image = cv2.imread(\"CoverImage.png\")\n",
        "steg_image = cv2.imread(\"EncodedImage.png\")\n",
        "\n",
        "original_image = cv2.cvtColor(original_image, cv2.COLOR_BGR2GRAY)\n",
        "steg_image = cv2.cvtColor(steg_image, cv2.COLOR_BGR2GRAY)\n",
        "\n",
        "# Check if the dimensions of the images are equal\n",
        "if original_image.shape != steg_image.shape:\n",
        "    raise ValueError(\"The dimensions of the images are not equal.\")\n",
        "\n",
        "ssim_value, _ = ssim(original_image, steg_image, full=True, multichannel=False)\n",
        "mse = np.mean((np.array(original_image) - np.array(steg_image)) ** 2)\n",
        "max_pixel = 255\n",
        "psnr = 10 * np.log10((max_pixel ** 2) / mse)\n",
        "\n",
        "# Print the results\n",
        "print(f\"MSE: {mse}\")\n",
        "print(f\"PSNR: {psnr}\")\n",
        "print(f\"SSIM: {ssim_value}\")"
      ]
    },
    {
      "cell_type": "code",
      "source": [],
      "metadata": {
        "id": "26t9PULjY1NM"
      },
      "execution_count": null,
      "outputs": []
    }
  ]
}